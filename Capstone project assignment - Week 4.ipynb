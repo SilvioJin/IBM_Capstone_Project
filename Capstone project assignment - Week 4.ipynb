{
 "cells": [
  {
   "cell_type": "markdown",
   "metadata": {},
   "source": [
    "# Capstone project assignment - Week 4\n",
    "\n",
    "March 2020 - by Fen Jin"
   ]
  },
  {
   "cell_type": "markdown",
   "metadata": {},
   "source": [
    "## Introduction/Business Problem section"
   ]
  },
  {
   "cell_type": "markdown",
   "metadata": {},
   "source": [
    "We want to open a new restaurant in the city of Rome.\n",
    "\n",
    "We would like to know what area of the city is more 'convenient' / popular and what type of cuisine is could be a good choice. \n",
    "\n",
    "Thus, we will analyze the restaurants of Rome. \n",
    "\n",
    "- Visualize the different cuisine restaurants\n",
    "- Visualize the different clusters of restaurants"
   ]
  },
  {
   "cell_type": "markdown",
   "metadata": {},
   "source": [
    "## Data section"
   ]
  },
  {
   "cell_type": "markdown",
   "metadata": {},
   "source": [
    "At the moment, we will use Foursquare calls to collect location, cuisine, descriptions, price ranges, reviews/ratings, etc.\n"
   ]
  },
  {
   "cell_type": "markdown",
   "metadata": {},
   "source": []
  }
 ],
 "metadata": {
  "kernelspec": {
   "display_name": "Python 3",
   "language": "python",
   "name": "python3"
  },
  "language_info": {
   "codemirror_mode": {
    "name": "ipython",
    "version": 3
   },
   "file_extension": ".py",
   "mimetype": "text/x-python",
   "name": "python",
   "nbconvert_exporter": "python",
   "pygments_lexer": "ipython3",
   "version": "3.6.5"
  }
 },
 "nbformat": 4,
 "nbformat_minor": 2
}
